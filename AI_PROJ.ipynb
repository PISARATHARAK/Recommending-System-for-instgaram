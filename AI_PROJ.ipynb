{
 "cells": [
  {
   "cell_type": "code",
   "execution_count": 48,
   "id": "b56d76cb",
   "metadata": {},
   "outputs": [],
   "source": [
    "#KINTALI SAHIL - CS20B1114\n",
    "#PISARA THARAK - CS20B1111"
   ]
  },
  {
   "cell_type": "code",
   "execution_count": 49,
   "id": "3ce3bcd5",
   "metadata": {},
   "outputs": [],
   "source": [
    "from InstagramAPI import InstagramAPI, os\n",
    "import pandas as pd\n",
    "from tqdm import tqdm\n",
    "import time \n",
    "import numpy as np\n",
    "import datetime \n",
    "import networkx\n",
    "import re\n",
    "import matplotlib.pyplot as plt"
   ]
  },
  {
   "cell_type": "code",
   "execution_count": 50,
   "id": "fbae6d2d",
   "metadata": {},
   "outputs": [],
   "source": [
    "def plot (xaxis, yaxis, xlabel, ylabel, title, filename):\n",
    "    x = np.arange(len(xaxis))\n",
    "    plt.bar(x, yaxis, color=['crimson', 'cadetblue', 'cyan', 'magenta', 'coral', 'darkcyan', 'blueviolet', 'burlywood', 'darkgreen', 'chocolate'])\n",
    "    plt.xlabel(xlabel)\n",
    "    plt.ylabel(ylabel)\n",
    "    plt.xticks(x, xaxis, fontsize=5, rotation=20)\n",
    "    plt.title(title)\n",
    "    plt.show()\n",
    "    plt.savefig(filename, dpi=500)\n",
    "    plt.clf()\n",
    "    plt.cla()\n",
    "    plt.close()\n",
    "\n",
    "def hashtags(str):\n",
    "    return re.findall(r'#(\\w+)', str)"
   ]
  },
  {
   "cell_type": "code",
   "execution_count": 51,
   "id": "1a29b4ff",
   "metadata": {},
   "outputs": [
    {
     "name": "stdout",
     "output_type": "stream",
     "text": [
      "Request return 405 error!\n",
      "{'message': '', 'status': 'fail'}\n",
      "Login success!\n",
      "\n"
     ]
    },
    {
     "data": {
      "text/plain": [
       "True"
      ]
     },
     "execution_count": 51,
     "metadata": {},
     "output_type": "execute_result"
    }
   ],
   "source": [
    "api = InstagramAPI(\"aiproject2023\", \"Cs20b1114\") # change login and password to relevant usernmae and password\n",
    "time.sleep(2)\n",
    "api.login()"
   ]
  },
  {
   "cell_type": "code",
   "execution_count": 52,
   "id": "58366454",
   "metadata": {},
   "outputs": [],
   "source": [
    "# Get username info for your account\n",
    "api.getSelfUsernameInfo()\n",
    "user_info = api.LastJson\n",
    "uid = user_info['user']['pk']\n",
    "myname = user_info['user']['full_name']"
   ]
  },
  {
   "cell_type": "code",
   "execution_count": 53,
   "id": "8167aff6",
   "metadata": {},
   "outputs": [],
   "source": [
    "# Grab the most recent images from everyone (friends of friends) and rate them by how how relevant they are to the user.\n",
    "# Grab the number of likes, comments and time the photo was taken\n",
    "# Get the photos that you've liked to be entered in dataset used for recommendations\n",
    "api.getLikedMedia()\n",
    "liked_photos = api.LastJson\n",
    "\n",
    "users_liked = [item['user'] for item in liked_photos['items']]"
   ]
  },
  {
   "cell_type": "code",
   "execution_count": 55,
   "id": "873b5560",
   "metadata": {},
   "outputs": [
    {
     "name": "stdout",
     "output_type": "stream",
     "text": [
      "Request return 403 error!\n",
      "{'message': 'login_required', 'error_title': \"You've Been Logged Out\", 'error_body': 'Please log back in.', 'logout_reason': 2, 'status': 'fail'}\n"
     ]
    },
    {
     "ename": "KeyError",
     "evalue": "'users'",
     "output_type": "error",
     "traceback": [
      "\u001b[1;31m---------------------------------------------------------------------------\u001b[0m",
      "\u001b[1;31mKeyError\u001b[0m                                  Traceback (most recent call last)",
      "Cell \u001b[1;32mIn [55], line 6\u001b[0m\n\u001b[0;32m      3\u001b[0m following_info \u001b[38;5;241m=\u001b[39m api\u001b[38;5;241m.\u001b[39mLastJson\n\u001b[0;32m      5\u001b[0m follow_list\u001b[38;5;241m=\u001b[39m[]\n\u001b[1;32m----> 6\u001b[0m \u001b[38;5;28;01mfor\u001b[39;00m user \u001b[38;5;129;01min\u001b[39;00m tqdm(\u001b[43mfollowing_info\u001b[49m\u001b[43m[\u001b[49m\u001b[38;5;124;43m'\u001b[39;49m\u001b[38;5;124;43musers\u001b[39;49m\u001b[38;5;124;43m'\u001b[39;49m\u001b[43m]\u001b[49m):\n\u001b[0;32m      7\u001b[0m     uid_followed \u001b[38;5;241m=\u001b[39m user[\u001b[38;5;124m'\u001b[39m\u001b[38;5;124mpk\u001b[39m\u001b[38;5;124m'\u001b[39m]\n\u001b[0;32m      8\u001b[0m     fullname_followed \u001b[38;5;241m=\u001b[39m user[\u001b[38;5;124m'\u001b[39m\u001b[38;5;124mfull_name\u001b[39m\u001b[38;5;124m'\u001b[39m]\n",
      "\u001b[1;31mKeyError\u001b[0m: 'users'"
     ]
    }
   ],
   "source": [
    "# Get the list of people following\n",
    "api.getSelfUsersFollowing()\n",
    "following_info = api.LastJson\n",
    "\n",
    "follow_list=[]\n",
    "for user in tqdm(following_info['users']):\n",
    "    uid_followed = user['pk']\n",
    "    fullname_followed = user['full_name']\n",
    "    follow_list.append((uid, uid_followed, myname, fullname_followed))\n",
    "   \n",
    "    api.getUserFollowings(uid_followed)\n",
    "    relationship = api.LastJson\n",
    "    if relationship.get('users') is not None:\n",
    "        for User in relationship['users']:\n",
    "            follow_list.append((uid_followed, User['pk'], fullname_followed, User['full_name']))\n",
    "    \n",
    "    time.sleep(0.5)\n",
    "# Create a dataframe of follow_list\n",
    "follow_list_frame = pd.DataFrame(follow_list, columns=['Source ID', 'Destination ID', 'Source Name', 'Destination Name'])\n"
   ]
  },
  {
   "cell_type": "code",
   "execution_count": null,
   "id": "275f67f9",
   "metadata": {
    "scrolled": false
   },
   "outputs": [],
   "source": [
    "# Build up a network from these liked photos\n",
    "user_liked_relationship = []\n",
    "for user in tqdm(users_liked):\n",
    "    uid_followed = user['pk']\n",
    "    fullname_followed = user['full_name']\n",
    "    user_liked_relationship.append((uid, uid_followed, myname, fullname_followed))\n",
    "\n",
    "    # Get the followings list for each followed user and append them\n",
    "    api.getUserFollowings(uid_followed)\n",
    "    user_secondary = api.LastJson\n",
    "\n",
    "    for User in user_secondary['users']:\n",
    "        user_liked_relationship.append((uid_followed, User['pk'], fullname_followed, User['full_name']))\n",
    "    time.sleep(1)"
   ]
  },
  {
   "cell_type": "code",
   "execution_count": null,
   "id": "c3c3b460",
   "metadata": {},
   "outputs": [],
   "source": [
    "# Create a dataframe from the liked photos list\n",
    "liked_list_frame = pd.DataFrame(user_liked_relationship, columns=['Source ID', 'Destination ID', 'Source Name', 'Destination Nmae'])\n",
    "\n",
    "#Change end index for a larger dataframe keeping in mind what's the maximum\n",
    "liked_list_frame = liked_list_frame.iloc[0:500]\n",
    "unique_user_id = np.unique(liked_list_frame[['Source ID', 'Destination ID']].values.reshape(1, -1))\n"
   ]
  },
  {
   "cell_type": "code",
   "execution_count": null,
   "id": "8bb690a7",
   "metadata": {},
   "outputs": [],
   "source": [
    "# Create a graph to calculate relative score of pages\n",
    "graph = networkx.from_pandas_edgelist(liked_list_frame, 'Source ID', 'Destination ID')\n",
    "personalised_rank = dict(zip(graph.nodes(), [0] * len(graph.nodes())))\n",
    "personalised_rank[uid] = 1\n",
    "pg_rank = networkx.pagerank(graph, personalization=personalised_rank)"
   ]
  },
  {
   "cell_type": "code",
   "execution_count": null,
   "id": "e2f475b9",
   "metadata": {},
   "outputs": [],
   "source": [
    "# Creating dataset for providing recommendations\n",
    "total_urls = []\n",
    "timetaken = []\n",
    "number_of_likes = []\n",
    "number_of_comments = []\n",
    "pagerank = []\n",
    "users = []"
   ]
  },
  {
   "cell_type": "code",
   "execution_count": null,
   "id": "38909b90",
   "metadata": {},
   "outputs": [],
   "source": [
    "for id in tqdm(unique_user_id):\n",
    "    api.getUserFeed(id)\n",
    "    feed = api.LastJson\n",
    "\n",
    "    if 'items' in feed.keys():\n",
    "        for item in feed['items']:\n",
    "\n",
    "            #Capture only images for this project\n",
    "            if 'image_versions2' in item.keys():\n",
    "                url = item['image_versions2']['candidates'][0]['url']\n",
    "                taken_at = item['taken_at']\n",
    "                # Check how many likes are provided with except block if 0 likes\n",
    "                try:\n",
    "                    like = item['like_count']\n",
    "                except KeyError:\n",
    "                    like = 0\n",
    "\n",
    "                # Check the number of comments and provide an except block if zero comments are there\n",
    "                try:\n",
    "                    comment = item['comment_count']\n",
    "                except KeyError:\n",
    "                    comment = 0\n",
    "\n",
    "                #rank = pg_rank[item['user']['pk']]\n",
    "                if item['user']['pk'] in pg_rank:\n",
    "                    rank = pg_rank[item['user']['pk']]\n",
    "                else:\n",
    "                    rank = 0 # or some other default value\n",
    "\n",
    "                user = item['user']['full_name']\n",
    "\n",
    "                # dont count oneself when appending\n",
    "                if user != myname:\n",
    "                    total_urls.append(url)\n",
    "                    timetaken.append(taken_at)\n",
    "                    number_of_likes.append(like)\n",
    "                    number_of_comments.append(comment)\n",
    "                    pagerank.append(rank)\n",
    "                    users.append(user)\n",
    "      \n",
    "      #time.sleep(1)"
   ]
  },
  {
   "cell_type": "code",
   "execution_count": null,
   "id": "d7d9fc37",
   "metadata": {},
   "outputs": [],
   "source": [
    "# With the dataset availbale, create a dataframe from it\n",
    "relative_score = pd.DataFrame(\n",
    "   {\n",
    "      'URLS': total_urls,\n",
    "      'Time taken': timetaken,\n",
    "      'Number of likes': number_of_likes,\n",
    "      'Number of comments': number_of_comments,\n",
    "      'Rank': pagerank,\n",
    "      'Users': users,\n",
    "   }\n",
    ")"
   ]
  },
  {
   "cell_type": "code",
   "execution_count": null,
   "id": "cb6d1f02",
   "metadata": {},
   "outputs": [],
   "source": [
    "# Find out the score\n",
    "# A simple way to do it is just multiply to multiply parameters # of comments, # of likes, rank, weight and a negative exponent value of time to find its score in present terms when photo was taken\n",
    "# This simple score is very big and therefore we can standardize it by taking the natural logarithm\n",
    "relative_score['Total Score'] = np.log(relative_score['Number of likes']) * np.log(relative_score['Number of comments']) * relative_score['Rank'] * np.exp((relative_score['Time taken'] - int(time.time())) / 1e5)"
   ]
  },
  {
   "cell_type": "code",
   "execution_count": null,
   "id": "f6afceab",
   "metadata": {},
   "outputs": [],
   "source": [
    "# Get the top number of highest rated posts. I user 10 of these posts\n",
    "relative_score = relative_score.sort_values(by='Total Score', ascending=False)\n",
    "recommended_url = relative_score['URLS'].tolist()\n",
    "recommended_post = relative_score['Total Score'].tolist()\n",
    "\n",
    "recommended_url = recommended_url[0:10]\n",
    "recommended_post = recommended_post[0:10]"
   ]
  },
  {
   "cell_type": "code",
   "execution_count": null,
   "id": "ef223ae1",
   "metadata": {},
   "outputs": [],
   "source": [
    "# providing urls keys so that they can be easily shown on the bar chart\n",
    "indexes = ['URL1', 'URL2', 'URL3', 'URL4', 'URL5', 'URL6', 'URL7', 'URL8', 'URL9', 'URL10']\n",
    "url_dict = {}\n",
    "\n",
    "for i in range(10):\n",
    "    url_dict[indexes[i]] = recommended_url[i]\n",
    "\n",
    "#prinitng dictionary\n",
    "print(\"\\n\\nURLS of Top 10 recommended pictures\")\n",
    "print('-------------------------------------')\n",
    "for key, values in url_dict.items():\n",
    "    print(key + '-->' + values + \"\\n\")\n",
    "print(\"\\n\\n\")"
   ]
  },
  {
   "cell_type": "code",
   "execution_count": null,
   "id": "c2d42cb5",
   "metadata": {},
   "outputs": [],
   "source": [
    "#Visualization\n",
    "plot(indexes, recommended_post, \"URL Address\", \"Scores\", \"Relative scores of Top 10 recommended photos\", \"photo.png\")"
   ]
  },
  {
   "cell_type": "code",
   "execution_count": null,
   "id": "721f9fc6",
   "metadata": {},
   "outputs": [],
   "source": [
    "# Find the images according to the hashtags a user mostly likes\n",
    "# Very important when considering the tastes of travel enthusiasts \n",
    "total_hashtags = []\n",
    "\n",
    "# Get recently liked photos\n",
    "api.getLikedMedia()\n",
    "liked_photos = api.LastJson\n",
    "for item in tqdm(liked_photos['items']):\n",
    "    if item['caption'] is not None:\n",
    "        hashtag = hashtags(item['caption']['text'])\n",
    "        [total_hashtags.append(i.lower()) for i in hashtag]\n",
    "   \n",
    "   #time.sleep(1)"
   ]
  },
  {
   "cell_type": "code",
   "execution_count": null,
   "id": "998f2a2d",
   "metadata": {},
   "outputs": [],
   "source": [
    "recommended_hashtags = pd.Series(total_hashtags).value_counts()[:10]\n",
    "top_hashtag_images = {}\n",
    "\n",
    "for hashtag in recommended_hashtags.index:\n",
    "    api.getHashtagFeed(hashtag)\n",
    "    feed = api.LastJson\n",
    "    top_hashtag_images[hashtag] = feed \n",
    "    #time.sleep(1)"
   ]
  },
  {
   "cell_type": "code",
   "execution_count": null,
   "id": "19967432",
   "metadata": {},
   "outputs": [],
   "source": [
    "total_urls = []\n",
    "number_of_likes = []\n",
    "tags = []\n",
    "number_of_comments = []"
   ]
  },
  {
   "cell_type": "code",
   "execution_count": null,
   "id": "74c4eb08",
   "metadata": {},
   "outputs": [],
   "source": [
    "for hashtag in top_hashtag_images.keys():\n",
    "    images = top_hashtag_images[hashtag]['items']\n",
    "    for item in images:\n",
    "        if 'image_versions2' in item:\n",
    "            total_urls.append(item['image_versions2']['candidates'][0]['url'])\n",
    "            # Check how many likes are provided with except block if 0 likes\n",
    "            try:\n",
    "                number_of_likes.append(item['like_count'])\n",
    "            except KeyError:\n",
    "                number_of_likes.append(0)\n",
    "\n",
    "            # Check the number of comments and provide an except block if zero comments are there\n",
    "            try:\n",
    "                number_of_comments.append(item['comment_count'])\n",
    "            except KeyError:\n",
    "                number_of_comments.append(0)\n",
    "\n",
    "            tags.append(hashtag)\n",
    "   \n",
    "   #time.sleep(1)"
   ]
  },
  {
   "cell_type": "code",
   "execution_count": null,
   "id": "e15b9146",
   "metadata": {},
   "outputs": [],
   "source": [
    "tag_frame = pd.DataFrame(\n",
    "   {\n",
    "      'Tags': tags,\n",
    "      'Total urls': total_urls,\n",
    "      'Number of likes': number_of_likes,\n",
    "      'Number of comments': number_of_comments\n",
    "   }\n",
    ")\n",
    "\n",
    "tag_frame['Score'] = np.log(tag_frame['Number of likes'] * tag_frame['Number of comments'])\n",
    "popular_tags = tag_frame.groupby('Tags').max()\n",
    "popular_tags = popular_tags.sort_values('Score', ascending=False)"
   ]
  },
  {
   "cell_type": "code",
   "execution_count": null,
   "id": "a6d82148",
   "metadata": {},
   "outputs": [],
   "source": [
    "count = 0\n",
    "list_name = []\n",
    "for a, b in popular_tags.iterrows():\n",
    "    count = count + 1\n",
    "    list_url = b.tolist()\n",
    "    list_name.append(a)\n",
    "    list_url = list_url[:len(list_url) - 3]\n",
    "    print(f\"Recommendation number {count} is: \" + a)\n",
    "    print(list_url)\n",
    "    print(\"\\n\\n\")"
   ]
  },
  {
   "cell_type": "code",
   "execution_count": null,
   "id": "28d52070",
   "metadata": {},
   "outputs": [],
   "source": [
    "# Visualization\n",
    "list_score = popular_tags['Score'].tolist()\n",
    "plot(list_name, list_score, \"Hashtag Names\", \"Scores\", \"Relative scores of Top 10 recommended hashtags\", \"hashtag.png\")"
   ]
  },
  {
   "cell_type": "code",
   "execution_count": null,
   "id": "d2f8c881",
   "metadata": {},
   "outputs": [],
   "source": []
  }
 ],
 "metadata": {
  "kernelspec": {
   "display_name": "Python 3 (ipykernel)",
   "language": "python",
   "name": "python3"
  },
  "language_info": {
   "codemirror_mode": {
    "name": "ipython",
    "version": 3
   },
   "file_extension": ".py",
   "mimetype": "text/x-python",
   "name": "python",
   "nbconvert_exporter": "python",
   "pygments_lexer": "ipython3",
   "version": "3.10.6"
  }
 },
 "nbformat": 4,
 "nbformat_minor": 5
}
